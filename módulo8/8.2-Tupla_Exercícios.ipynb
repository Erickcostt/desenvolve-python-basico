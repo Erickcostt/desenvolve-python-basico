{
 "cells": [
  {
   "cell_type": "markdown",
   "id": "0d5035b5",
   "metadata": {},
   "source": [
    "# Tupla\n",
    "\n",
    "## Aula 8.2"
   ]
  },
  {
   "cell_type": "markdown",
   "id": "0bdece85",
   "metadata": {},
   "source": [
    "### Q1. \n",
    "\n",
    "Escreva uma função ```calcula_area_perimetro``` que recebe **apenas um parâmetro** ```dimensoes``` e calcula a área e o perímetro a partir das dimensões dadas. \n",
    "- ```dimensoes``` é uma tupla (largura, comprimento) com as dimensões de um terreno retangular\n",
    "- Sua função deve calcular e retornar as seguintes operações\n",
    "   - $area = largura \\times comprimento$\n",
    "   - $perimetro = 2\\times(largura + comprimento)$\n"
   ]
  },
  {
   "cell_type": "code",
   "execution_count": null,
   "id": "0a258eba",
   "metadata": {},
   "outputs": [],
   "source": [
    "def calcula_area_perimetro(dimensoes):\n",
    "    largura, comprimento = dimensoes\n",
    "    area = largura * comprimento\n",
    "    perimetro = 2 * (largura + comprimento)\n",
    "    return area, perimetro\n",
    "\n",
    "# Exemplo de uso\n",
    "largura = 5\n",
    "comprimento = 7\n",
    "retorno = calcula_area_perimetro((largura, comprimento))\n",
    "print(retorno, type(retorno))\n"
   ]
  },
  {
   "cell_type": "code",
   "execution_count": null,
   "id": "e1866c04",
   "metadata": {},
   "outputs": [],
   "source": [
    "\n",
    "largura = 5\n",
    "comprimento = 7\n",
    "retorno = calcula_area_perimetro((largura, comprimento))\n",
    "print(retorno, type(retorno))"
   ]
  },
  {
   "cell_type": "markdown",
   "id": "cbdcb986",
   "metadata": {},
   "source": [
    "### Q2.\n",
    "\n",
    "Dada uma string, imprima todas as vogais que aparecem na string, bem como todos os índices onde elas ocorrem. Para isso, use a função ```enumerate```.\n"
   ]
  },
  {
   "cell_type": "code",
   "execution_count": null,
   "id": "1f6b1f2d",
   "metadata": {},
   "outputs": [],
   "source": [
    "\n",
    "frase = \"O rato roeu a roupa da Alice\"\n",
    "\n",
    "vogais = \"aeiouAEIOU\"\n",
    "\n",
    "for indice, letra in enumerate(frase):\n",
    "  \n",
    "    if letra in vogais:\n",
    "        print(f\"Vogal '{letra}' encontrada no índice {indice}\")"
   ]
  },
  {
   "cell_type": "markdown",
   "id": "82fe9806-c6f7-4dc9-bf25-e482a4d0d7c6",
   "metadata": {
    "jp-MarkdownHeadingCollapsed": true
   },
   "source": [
    "Q3.\n",
    "\n",
    "Escreva uma função em Python chamada ```ordenar_tuplas``` que recebe uma lista de tuplas, cada uma contendo o nome de um aluno e sua respectiva média, e retorna uma nova lista ordenada em ordem decrescente de médias."
   ]
  },
  {
   "cell_type": "code",
   "execution_count": 12,
   "id": "a1200ba4-6ffe-4bd7-ab4e-a20b17c8b989",
   "metadata": {},
   "outputs": [],
   "source": [
    "def ordenar_tuplas(lista_tuplas):\n",
    "    lista_ordenada = sorted(lista_tuplas, key=lambda x: x[1], reverse=True)\n",
    "    return lista_ordenada"
   ]
  },
  {
   "cell_type": "code",
   "execution_count": 13,
   "id": "1972c62b",
   "metadata": {},
   "outputs": [
    {
     "name": "stdout",
     "output_type": "stream",
     "text": [
      "[('Charlie', 9.0), ('David', 8.8), ('Alice', 8.5), ('Bob', 7.2)]\n"
     ]
    }
   ],
   "source": [
    "# Exemplo de uso:\n",
    "alunos_notas = [('Alice', 8.5), ('Bob', 7.2), ('Charlie', 9.0), ('David', 8.8)]\n",
    "resultado = ordenar_tuplas(alunos_notas)\n",
    "print(resultado)\n",
    "# Saída esperada: [('Charlie', 9.0), ('David', 8.8), ('Alice', 8.5), ('Bob', 7.2)]"
   ]
  },
  {
   "cell_type": "markdown",
   "id": "62df7c19-a858-4dc1-9089-597acec6f4af",
   "metadata": {},
   "source": [
    "### Q4.\n",
    "\n",
    "Escreva uma função em Python chamada ```comprimir_tuplas``` que recebe uma lista de tuplas, cada uma contendo uma palavra e um número, e retorna uma nova lista de tuplas onde palavras idênticas são agrupadas e seus números são somados.\n",
    "\n"
   ]
  },
  {
   "cell_type": "code",
   "execution_count": 14,
   "id": "30a221f3",
   "metadata": {},
   "outputs": [],
   "source": [
    "def comprimir_tuplas(lista_tuplas):\n",
    "    dicionario = {}\n",
    "    for palavra, numero in lista_tuplas:\n",
    "        if palavra in dicionario:\n",
    "            dicionario[palavra] += numero\n",
    "        else:\n",
    "            dicionario[palavra] = numero\n",
    "    return list(dicionario.items())\n",
    "\n"
   ]
  },
  {
   "cell_type": "code",
   "execution_count": 15,
   "id": "80972bac",
   "metadata": {},
   "outputs": [
    {
     "name": "stdout",
     "output_type": "stream",
     "text": [
      "[('maçã', 8), ('banana', 5), ('laranja', 1)]\n"
     ]
    }
   ],
   "source": [
    "tuplas_originais = [('maçã', 3), ('banana', 2), ('maçã', 5), ('laranja', 1), ('banana', 3)]\n",
    "resultado = comprimir_tuplas(tuplas_originais)\n",
    "print(resultado)"
   ]
  },
  {
   "cell_type": "markdown",
   "id": "649a5082",
   "metadata": {},
   "source": [
    "### Q5. \n",
    "\n",
    "- Escreva um script que peça o nome e a idade de todos na fila de uma balada. Crie uma lista de tuplas com os pares ```(nome, idade)``` de cada um. \n",
    "- Em seguida crie e imprima duas tuplas apenas com os nomes, uma com os menores de idade que não poderão entrar, e uma com os maiores de idade (```idade >= 18```). \n",
    "\n"
   ]
  },
  {
   "cell_type": "code",
   "execution_count": 16,
   "id": "47cb0573",
   "metadata": {},
   "outputs": [
    {
     "name": "stdin",
     "output_type": "stream",
     "text": [
      "Quantas pessoas estão na fila?  4\n",
      "Nome:  erick\n",
      "Idade:  199\n",
      "Nome:  eu\n",
      "Idade:  3\n",
      "Nome:  eeee\n",
      "Idade:  2\n",
      "Nome:  dd\n",
      "Idade:  3\n"
     ]
    },
    {
     "name": "stdout",
     "output_type": "stream",
     "text": [
      "Menores de idade: ('eu', 'eeee', 'dd')\n",
      "Maiores de idade: ('erick',)\n"
     ]
    }
   ],
   "source": [
    "pessoas = []\n",
    "quantidade = int(input(\"Quantas pessoas estão na fila? \"))\n",
    "\n",
    "for i in range(quantidade):\n",
    "    nome = input(\"Nome: \")\n",
    "    idade = int(input(\"Idade: \"))\n",
    "    pessoas.append((nome, idade))\n",
    "\n",
    "menores = tuple(nome for nome, idade in pessoas if idade < 18)\n",
    "maiores = tuple(nome for nome, idade in pessoas if idade >= 18)\n",
    "\n",
    "print(\"Menores de idade:\", menores)\n",
    "print(\"Maiores de idade:\", maiores)\n"
   ]
  },
  {
   "cell_type": "code",
   "execution_count": null,
   "id": "19d616de-ddfe-45bd-8bf0-38dfe44c6ea0",
   "metadata": {},
   "outputs": [],
   "source": []
  }
 ],
 "metadata": {
  "kernelspec": {
   "display_name": "Python 3 (ipykernel)",
   "language": "python",
   "name": "python3"
  },
  "language_info": {
   "codemirror_mode": {
    "name": "ipython",
    "version": 3
   },
   "file_extension": ".py",
   "mimetype": "text/x-python",
   "name": "python",
   "nbconvert_exporter": "python",
   "pygments_lexer": "ipython3",
   "version": "3.13.9"
  }
 },
 "nbformat": 4,
 "nbformat_minor": 5
}
